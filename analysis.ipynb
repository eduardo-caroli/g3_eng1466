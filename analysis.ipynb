{
 "cells": [
  {
   "cell_type": "code",
   "execution_count": 30,
   "id": "624d772c",
   "metadata": {},
   "outputs": [],
   "source": [
    "import polars as pl\n",
    "\n",
    "data = pl.read_csv(\"data.csv\")"
   ]
  },
  {
   "cell_type": "markdown",
   "id": "0f0b162a",
   "metadata": {},
   "source": [
    "### Item 1.B"
   ]
  },
  {
   "cell_type": "code",
   "execution_count": 47,
   "id": "364af5cc",
   "metadata": {},
   "outputs": [],
   "source": [
    "sample_mean = data[\"y\"].mean()\n",
    "\n",
    "N = len(data)\n",
    "a = len(data[\"grupos\"].unique())\n",
    "\n",
    "group_treatments = [\n",
    "    {\n",
    "        \"grupos\": group,\n",
    "        \"tratamento\": data.filter(pl.col(\"grupos\").eq(group))[\"y\"].mean() - sample_mean\n",
    "    }\n",
    "    for group in range(1,5)\n",
    "]\n",
    "\n",
    "data = data.join(pl.DataFrame(group_treatments), on=\"grupos\").with_columns(\n",
    "    (pl.col(\"y\") - pl.col(\"tratamento\") - pl.lit(sample_mean)).alias(\"error\")\n",
    ").with_columns(\n",
    "    (pl.col(\"error\") * pl.col(\"error\")).alias(\"squared_error\")\n",
    ")\n",
    "\n",
    "sum_of_squared_errors = data[\"squared_error\"].sum()\n",
    "maximum_likelihood_variance_estimator = sum_of_squared_errors / N\n",
    "mean_squared_error = sum_of_squared_errors / (N-a)"
   ]
  },
  {
   "cell_type": "code",
   "execution_count": 55,
   "id": "8aae11b1",
   "metadata": {},
   "outputs": [
    {
     "data": {
      "text/plain": [
       "0.6441217935759217"
      ]
     },
     "execution_count": 55,
     "metadata": {},
     "output_type": "execute_result"
    }
   ],
   "source": [
    "sum_of_squared_treatments = 0\n",
    "for i in range(4):\n",
    "    sum_of_squared_treatments += (group_treatments[i][\"tratamento\"]) ** 2\n",
    "mean_squared_treatment = sum_of_squared_treatments / (a-1)\n",
    "mean_squared_treatment"
   ]
  },
  {
   "cell_type": "markdown",
   "id": "9fd8a82d",
   "metadata": {},
   "source": [
    "# Teste"
   ]
  },
  {
   "cell_type": "code",
   "execution_count": 59,
   "id": "a7525adc",
   "metadata": {},
   "outputs": [
    {
     "data": {
      "text/plain": [
       "0.057837584721711"
      ]
     },
     "execution_count": 59,
     "metadata": {},
     "output_type": "execute_result"
    }
   ],
   "source": [
    "mean_squared_treatment / mean_squared_error"
   ]
  }
 ],
 "metadata": {
  "kernelspec": {
   "display_name": "Python 3",
   "language": "python",
   "name": "python3"
  },
  "language_info": {
   "codemirror_mode": {
    "name": "ipython",
    "version": 3
   },
   "file_extension": ".py",
   "mimetype": "text/x-python",
   "name": "python",
   "nbconvert_exporter": "python",
   "pygments_lexer": "ipython3",
   "version": "3.13.0"
  }
 },
 "nbformat": 4,
 "nbformat_minor": 5
}
